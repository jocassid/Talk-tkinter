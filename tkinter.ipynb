{
 "cells": [
  {
   "cell_type": "markdown",
   "id": "7f81a9e5-d764-44b2-b0b5-00931f77da07",
   "metadata": {},
   "source": [
    "# tkinter - Quick and Dirty GUIs with Python"
   ]
  },
  {
   "cell_type": "markdown",
   "id": "7b278150-0299-4532-8f6a-89eee4847578",
   "metadata": {},
   "source": [
    "### \"But I don't know how to use the command line\"\n",
    "\n",
    "*- User*"
   ]
  },
  {
   "cell_type": "markdown",
   "id": "d36a8d9d-cf88-4aa5-a453-c210e158e9c2",
   "metadata": {},
   "source": [
    "## So what is tkinter anyway?\n",
    "\n",
    "* Tk is a GUI library originally built for the Tcl language [tcl-lang.org](https://www.tcl-lang.org/)\n",
    "* tkinter is a Python wrapper around the Tk GUI library\n",
    "* tkinter has been in the Python standard library a long time\n",
    "* Ttk is a newer set of themed widgets (accessible via the `tkinter.ttk` module)\n"
   ]
  },
  {
   "cell_type": "markdown",
   "id": "33e031fd-e127-4de2-a274-c124bb43aa5c",
   "metadata": {},
   "source": [
    "## Installing\n",
    "\n",
    "Even though tkinter is part of the Python standard library, your Linux distribution might not have the tkinter \n",
    "\n",
    "`sudo apt-get install python3-tk`"
   ]
  },
  {
   "cell_type": "markdown",
   "id": "9134a1dc-25b2-4769-ad5a-e99d4982f729",
   "metadata": {},
   "source": [
    "## Hello World\n",
    "\n",
    "![hello_world_app](images/hello_world.png \"Title\")"
   ]
  },
  {
   "cell_type": "code",
   "id": "781e11ef-26f0-4182-9b51-46c528c4832e",
   "metadata": {
    "ExecuteTime": {
     "end_time": "2025-02-24T01:32:57.127373Z",
     "start_time": "2025-02-24T01:32:55.017347Z"
    }
   },
   "source": [
    "# Hello World\n",
    "from tkinter import Tk\n",
    "from tkinter.ttk import Frame, Label, Button\n",
    "\n",
    "root = Tk()  # create a root window\n",
    "root.title('Hello World') # Set the title of the window\n",
    "top_level = root.winfo_toplevel()\n",
    "top_level.geometry('250x100')\n",
    "\n",
    "# Frame is a rectangular area where components can be placed\n",
    "frame = Frame(root, padding=10, width=400, height=400)  \n",
    "frame.grid()  # use grid layout to position widgets inside frame\n",
    "\n",
    "# Add a Label and Button\n",
    "Label(frame, text=\"Hello World\").grid(column=0, row=0)\n",
    "Button(frame, text=\"Quit\", command=root.destroy).grid(column=0, row=1)\n",
    "\n",
    "root.mainloop()"
   ],
   "outputs": [],
   "execution_count": 2
  },
  {
   "metadata": {},
   "cell_type": "markdown",
   "source": "## Some refactoring",
   "id": "a0f3a4d70c6ce140"
  },
  {
   "cell_type": "code",
   "id": "60cdb017-c2ac-41c5-9c09-0911d8028e0d",
   "metadata": {
    "ExecuteTime": {
     "end_time": "2025-02-24T03:05:07.319724Z",
     "start_time": "2025-02-24T03:05:07.306699Z"
    }
   },
   "source": [
    "# Encapsulate the boilerplate\n",
    "# geometry can be specified using a string like '200x200' for 200x200 pixels\n",
    "def build_root_and_frame(title, win_geometry=None):\n",
    "    root1 = Tk()\n",
    "    root1.title(title)\n",
    "    top_level1 = root1.winfo_toplevel()\n",
    "    if win_geometry is not None:\n",
    "        top_level1.geometry(win_geometry)\n",
    "    frame1 = Frame(root1, padding=10)\n",
    "    frame1.grid()\n",
    "    return root1, frame1\n",
    "\n",
    "def grid(widget, row, column, rowspan=1, columnspan=1, padx=5, pady=5, **kwargs):\n",
    "    kwargs_out = {\n",
    "        'rowspan': rowspan,\n",
    "        'columnspan': columnspan,\n",
    "        'padx': padx,\n",
    "        'pady': pady,\n",
    "    }\n",
    "    kwargs_out.update(kwargs)\n",
    "    widget.grid(row=row, column=column, **kwargs_out)"
   ],
   "outputs": [],
   "execution_count": 33
  },
  {
   "metadata": {},
   "cell_type": "markdown",
   "source": "## Meet the widgets",
   "id": "183351b86c4abe1b"
  },
  {
   "metadata": {},
   "cell_type": "markdown",
   "source": [
    "### Input/Output\n",
    "\n",
    "![input_output](images/input_output.png \"Title\")"
   ],
   "id": "471a6d78c10458f1"
  },
  {
   "cell_type": "code",
   "id": "36a44753-f9ba-4a5c-a6bb-f9a1e57978d3",
   "metadata": {
    "ExecuteTime": {
     "end_time": "2025-02-24T01:32:59.534323Z",
     "start_time": "2025-02-24T01:32:57.147290Z"
    }
   },
   "source": [
    "# Take some input: Hello NAME\n",
    "from tkinter import StringVar\n",
    "from tkinter.ttk import Entry\n",
    "\n",
    "root, frame = build_root_and_frame('Hello NAME', '400x150')\n",
    "\n",
    "# This is known as a control value it's the value underlying the widget\n",
    "# also comes in DoubleVar and IntVar flavors\n",
    "name_in = StringVar()\n",
    "name_out = StringVar()\n",
    "\n",
    "def greet(*args):\n",
    "    name_out.set(f\"Hello {name_in.get()}\")\n",
    "\n",
    "grid(Label(frame, text='Name'), 0, 0)\n",
    "grid(Entry(frame, width=20, textvariable=name_in), 0, 1)\n",
    "grid(Button(frame, text='Greet', command=greet), 0, 2)\n",
    "\n",
    "grid(Label(frame, textvariable=name_out), 1, 0)\n",
    "grid(Button(frame, text='Quit', command=root.destroy), 2, 0)\n",
    "\n",
    "root.mainloop()"
   ],
   "outputs": [],
   "execution_count": 4
  },
  {
   "cell_type": "markdown",
   "id": "ae03af4b-4e87-48d1-98cd-4c3fa42f70f3",
   "metadata": {},
   "source": [
    "### Canvas\n",
    "\n",
    "![canvas.png](images/canvas.png \"Canvas\")"
   ]
  },
  {
   "cell_type": "code",
   "id": "a9b0acf9-b0e7-4a07-a723-755ff6aabeda",
   "metadata": {
    "ExecuteTime": {
     "end_time": "2025-02-24T01:32:59.545858Z",
     "start_time": "2025-02-24T01:32:59.540694Z"
    }
   },
   "source": [
    "# another factory function\n",
    "def grid_label(parent, text, row, column):\n",
    "    grid(Label(parent, text=text), row, column)"
   ],
   "outputs": [],
   "execution_count": 5
  },
  {
   "cell_type": "code",
   "id": "8a74eb0f-8492-464d-8e4b-3d2824f980cc",
   "metadata": {
    "ExecuteTime": {
     "end_time": "2025-02-24T01:33:01.099785Z",
     "start_time": "2025-02-24T01:32:59.548462Z"
    }
   },
   "source": [
    "from tkinter import Canvas\n",
    "\n",
    "root, frame = build_root_and_frame('Canvas')\n",
    "canvas = Canvas(frame, height=100, width=100, background='white')\n",
    "\n",
    "def draw():\n",
    "    canvas.create_line(0, 50, 50, 0)\n",
    "    canvas.create_arc(50, 0, 100, 50)\n",
    "    canvas.create_oval(50, 50, 100, 100)\n",
    "    canvas.create_rectangle(25, 75, 75, 25)\n",
    "\n",
    "grid(canvas, 0, 0)\n",
    "grid(Button(frame, text='draw', command=draw), 0, 1)\n",
    "\n",
    "root.mainloop()"
   ],
   "outputs": [],
   "execution_count": 6
  },
  {
   "cell_type": "markdown",
   "id": "74c7193d-f6f4-424e-a71c-af99086682f2",
   "metadata": {},
   "source": [
    "### Checkbutton\n",
    "\n",
    "![checkbox.png](images/checkbox.png \"checkbox\")"
   ]
  },
  {
   "cell_type": "code",
   "id": "d293ddae-9c0f-4fa0-9384-5a9e007acf73",
   "metadata": {
    "ExecuteTime": {
     "end_time": "2025-02-24T01:33:02.887205Z",
     "start_time": "2025-02-24T01:33:01.102758Z"
    }
   },
   "source": [
    "from tkinter.ttk import Checkbutton\n",
    "\n",
    "root, frame = build_root_and_frame('Checkbutton', '400x100')\n",
    "\n",
    "hackme = StringVar()\n",
    "grid(\n",
    "    Checkbutton(\n",
    "        frame,\n",
    "        text=\"Save credit card info so it can be stolen later\",\n",
    "        variable=hackme,\n",
    "        onvalue='Hack the Planet!',\n",
    "        offvalue=\"Oh no you don't!\",\n",
    "    ), \n",
    "    0, 0,\n",
    ")\n",
    "grid(Label(frame, textvariable=hackme), 1, 0)\n",
    "\n",
    "root.mainloop()"
   ],
   "outputs": [],
   "execution_count": 7
  },
  {
   "cell_type": "markdown",
   "id": "04654f71-508a-4295-ae0c-b7f09b26e6d5",
   "metadata": {},
   "source": [
    "### Radiobutton\n",
    "\n",
    "![radiobutton.png](images/radiobutton.png \"radiobutton\")"
   ]
  },
  {
   "cell_type": "code",
   "id": "9f56944c-a0e1-4700-af1f-48c76b38e82c",
   "metadata": {
    "ExecuteTime": {
     "end_time": "2025-02-24T01:33:04.876378Z",
     "start_time": "2025-02-24T01:33:02.889263Z"
    }
   },
   "source": [
    "from tkinter.ttk import Radiobutton\n",
    "\n",
    "root, frame = build_root_and_frame('Radiobutton', '300x100')\n",
    "\n",
    "language = StringVar()\n",
    "grid(Radiobutton(frame, text=\"English\", variable=language, value='EN'), 0, 0)\n",
    "grid(Radiobutton(frame, text=\"Españole\", variable=language, value='ES'), 1, 0)\n",
    "grid_label(frame, 'Value', 2, 0)\n",
    "grid(Label(frame, textvariable=language), 2, 1)\n",
    "\n",
    "root.mainloop()"
   ],
   "outputs": [],
   "execution_count": 8
  },
  {
   "cell_type": "markdown",
   "id": "2bb452c5-774e-4678-aa70-b395a722c8c0",
   "metadata": {},
   "source": [
    "### Radiobutton, with Style\n",
    "\n",
    "The diamond Radiobuttons are wierd, but you can switch your app to a different theme to avoid them\n",
    "\n",
    "![radiobutton_with_style](images/radiobutton_with_style.png \"radiobutton with style\")"
   ]
  },
  {
   "cell_type": "code",
   "id": "08c59e28-2e9c-4b9b-8f69-e8d2163db84c",
   "metadata": {
    "ExecuteTime": {
     "end_time": "2025-02-24T01:33:04.917113Z",
     "start_time": "2025-02-24T01:33:04.881244Z"
    }
   },
   "source": [
    "from tkinter.ttk import Style\n",
    "\n",
    "style = Style()\n",
    "print(f\"{style.theme_names()=}\")\n",
    "print(f\"{style.theme_use()=}\")"
   ],
   "outputs": [
    {
     "name": "stdout",
     "output_type": "stream",
     "text": [
      "style.theme_names()=('clam', 'alt', 'default', 'classic')\n",
      "style.theme_use()='default'\n"
     ]
    }
   ],
   "execution_count": 9
  },
  {
   "cell_type": "code",
   "id": "d2ec9644-b6b5-4a1f-b05e-78aa9c07e2f0",
   "metadata": {
    "ExecuteTime": {
     "end_time": "2025-02-24T01:33:24.942638Z",
     "start_time": "2025-02-24T01:33:04.919665Z"
    }
   },
   "source": [
    "root = Tk()\n",
    "root.style = Style(root)\n",
    "root.style.theme_use('alt')\n",
    "root.title(\"Radiobutton, with style\")\n",
    "\n",
    "top_level = root.winfo_toplevel()\n",
    "top_level.geometry('300x100')\n",
    "\n",
    "frame = Frame(root, padding=10)\n",
    "frame.grid()\n",
    "\n",
    "language = StringVar()\n",
    "grid(Radiobutton(frame, text=\"English\", variable=language, value='EN'), 0, 0, sticky='w')\n",
    "grid(Radiobutton(frame, text=\"Español\", variable=language, value='ES'), 1, 0, sticky='w')\n",
    "grid_label(frame, 'Value', 2, 0)\n",
    "grid(Label(frame, textvariable=language), 2, 1)\n",
    "\n",
    "root.mainloop()"
   ],
   "outputs": [],
   "execution_count": 10
  },
  {
   "metadata": {},
   "cell_type": "markdown",
   "source": [
    "### Listbox\n",
    "\n",
    "![Listbox](images/listbox.png \"Listbox\")"
   ],
   "id": "2f583605827c47aa"
  },
  {
   "cell_type": "code",
   "id": "093b45ce-30e7-4574-a320-c5a829187d04",
   "metadata": {
    "ExecuteTime": {
     "end_time": "2025-02-24T01:33:27.406442Z",
     "start_time": "2025-02-24T01:33:24.949577Z"
    }
   },
   "source": [
    "from string import ascii_letters\n",
    "from tkinter import BROWSE, EXTENDED, Listbox, MULTIPLE, SINGLE, W\n",
    "root, frame = build_root_and_frame('Listbox')\n",
    "\n",
    "options = [\n",
    "    'alpha', 'bravo', 'charlie', 'delta', 'echo',\n",
    "    'foxtrot', 'golf', 'hotel', 'india', 'juliet',\n",
    "    'kilo', 'lima', 'mike', 'november', 'oscar',\n",
    "    ascii_letters * 5,\n",
    "]\n",
    "options_var = StringVar(value=options)\n",
    "listbox = Listbox(frame, height=10, listvariable=options_var)\n",
    "chosen_var = StringVar()\n",
    "select_mode = StringVar()\n",
    "select_mode.set(BROWSE)\n",
    "\n",
    "def show_selection():\n",
    "    selected_indices = listbox.curselection()\n",
    "    selections = [listbox.get(i) for i in selected_indices]\n",
    "    chosen_var.set(\"selection: \" + \", \".join(selections))\n",
    "    \n",
    "def mode_changed():\n",
    "    listbox.selection_clear(0)\n",
    "    listbox.configure(selectmode=select_mode.get())\n",
    "    \n",
    "def build_radio(mode):\n",
    "    return Radiobutton(frame, text=mode.upper(), variable=select_mode, value=mode, command=mode_changed)\n",
    "\n",
    "grid(listbox, 0, 0, rowspan=5)\n",
    "grid(build_radio(BROWSE), 0, 1, sticky=W)\n",
    "grid(build_radio(SINGLE), 1, 1, sticky=W)\n",
    "grid(build_radio(MULTIPLE), 2, 1, sticky=W)\n",
    "grid(build_radio(EXTENDED), 3, 1, sticky=W)\n",
    "grid(Button(frame, text='Read Selection', command=show_selection), 4, 1)\n",
    "grid(Label(frame, textvariable=chosen_var), 5, 0, columnspan=2)\n",
    "\n",
    "root.mainloop()"
   ],
   "outputs": [],
   "execution_count": 11
  },
  {
   "metadata": {},
   "cell_type": "markdown",
   "source": [
    "### Scrollbar\n",
    "\n",
    "![Scrolling Listbox](images/scrolling_listbox.png \"Scrolling Listbox\")"
   ],
   "id": "dc613af72987b49b"
  },
  {
   "metadata": {
    "ExecuteTime": {
     "end_time": "2025-02-24T01:33:31.971391Z",
     "start_time": "2025-02-24T01:33:27.408901Z"
    }
   },
   "cell_type": "code",
   "source": [
    "from tkinter import E, HORIZONTAL, N, S, VERTICAL\n",
    "from tkinter.ttk import Scrollbar\n",
    "\n",
    "root, frame = build_root_and_frame('Scrolling Listbox')\n",
    "x_scroll = Scrollbar(frame, orient=HORIZONTAL)\n",
    "y_scroll = Scrollbar(frame, orient=VERTICAL)\n",
    "\n",
    "grid(x_scroll, 1, 0, sticky=E+W)\n",
    "grid(y_scroll, 0, 1, sticky=N+S)\n",
    "\n",
    "options_var = StringVar(value=options)\n",
    "listbox = Listbox(\n",
    "    frame,\n",
    "    listvariable=options_var,\n",
    "    xscrollcommand=x_scroll.set,\n",
    "    yscrollcommand=y_scroll.set,\n",
    ")\n",
    "grid(listbox, 0, 0)\n",
    "x_scroll['command'] = listbox.xview\n",
    "y_scroll['command'] = listbox.yview\n",
    "\n",
    "root.mainloop()"
   ],
   "id": "27785c35461ba770",
   "outputs": [],
   "execution_count": 12
  },
  {
   "metadata": {},
   "cell_type": "markdown",
   "source": [
    "### Combobox\n",
    "\n",
    "![combobox](images/combobox.png \"Combobox\")"
   ],
   "id": "dcd82f8e4513720"
  },
  {
   "metadata": {
    "ExecuteTime": {
     "end_time": "2025-02-24T01:33:36.201634Z",
     "start_time": "2025-02-24T01:33:31.973682Z"
    }
   },
   "cell_type": "code",
   "source": [
    "from tkinter.ttk import Combobox\n",
    "\n",
    "root, frame = build_root_and_frame('Combobox', '300x100')\n",
    "\n",
    "color_var = StringVar()\n",
    "\n",
    "combobox = Combobox(frame, textvariable=color_var)\n",
    "combobox['values'] = ('Red', 'Green', 'Blue')\n",
    "grid(combobox, 0, 0)\n",
    "\n",
    "grid(Label(textvariable=color_var), 1, 0)\n",
    "\n",
    "root.mainloop()"
   ],
   "id": "1a8de3124bf194c9",
   "outputs": [],
   "execution_count": 13
  },
  {
   "metadata": {},
   "cell_type": "markdown",
   "source": [
    "### Text\n",
    "\n",
    "![Text widget](images/text.png \"Text\")"
   ],
   "id": "ba000eaf184b3e51"
  },
  {
   "metadata": {
    "ExecuteTime": {
     "end_time": "2025-02-24T01:33:36.212070Z",
     "start_time": "2025-02-24T01:33:36.204874Z"
    }
   },
   "cell_type": "code",
   "source": [
    "gettysburg_address = \"\"\"Four score and seven years ago our fathers brought forth on this continent, a new nation, conceived in Liberty, and dedicated to the proposition that all men are created equal.\n",
    "\n",
    "Now we are engaged in a great civil war, testing whether that nation, or any nation so conceived and so dedicated, can long endure. We are met on a great battle-field of that war. We have come to dedicate a portion of that field, as a final resting place for those who here gave their lives that that nation might live. It is altogether fitting and proper that we should do this.\n",
    "\n",
    "But, in a larger sense, we can not dedicate—we can not consecrate—we can not hallow—this ground. The brave men, living and dead, who struggled here, have consecrated it, far above our poor power to add or detract. The world will little note, nor long remember what we say here, but it can never forget what they did here. It is for us the living, rather, to be dedicated here to the unfinished work which they who fought here have thus far so nobly advanced. It is rather for us to be here dedicated to the great task remaining before us—that from these honored dead we take increased devotion to that cause for which they gave the last full measure of devotion—that we here highly resolve that these dead shall not have died in vain—that this nation, under God, shall have a new birth of freedom—and that government of the people, by the people, for the people, shall not perish from the earth. \"\"\""
   ],
   "id": "db6ef7d00b508264",
   "outputs": [],
   "execution_count": 14
  },
  {
   "metadata": {
    "ExecuteTime": {
     "end_time": "2025-02-24T01:33:40.383829Z",
     "start_time": "2025-02-24T01:33:36.214749Z"
    }
   },
   "cell_type": "code",
   "source": [
    "from tkinter import DISABLED, END, INSERT, SEL_FIRST, SEL_LAST, TclError, Text, W\n",
    "from tkinter.font import Font\n",
    "\n",
    "root, frame = build_root_and_frame('Text', None)\n",
    "\n",
    "text = Text(frame, width=60, height=10) \n",
    "grid(text, 0, 0, rowspan=3)\n",
    "\n",
    "def highlight_we():\n",
    "    text.tag_remove('highlight', '1.0', END)\n",
    "    start = '1.0'\n",
    "    while True:\n",
    "        pos = text.search('we', start, stopindex=END)\n",
    "        if not pos:\n",
    "            break\n",
    "        text.tag_add('highlight', pos, f'{pos}+2c')\n",
    "        start = f'{pos}+2c'\n",
    "    text.tag_config(\n",
    "        'highlight',\n",
    "        background='yellow',\n",
    "        font=Font(weight='bold'),\n",
    "    )\n",
    "\n",
    "output_var = StringVar()\n",
    "    \n",
    "def cursor_location():\n",
    "    output_var.set('')\n",
    "    output_var.set(\n",
    "        repr(text.index(INSERT))\n",
    "    )\n",
    "    \n",
    "def get_selection():\n",
    "    output_var.set('')\n",
    "    try:\n",
    "        sel_start = text.index(SEL_FIRST)\n",
    "        sel_end = text.index(SEL_LAST)\n",
    "    except TclError:\n",
    "        return\n",
    "    else:\n",
    "        selected_text = text.get(sel_start, sel_end)\n",
    "        output_var.set(selected_text)\n",
    "\n",
    "grid(Button(frame, text=\"highlight 'we'\", command=highlight_we), 0, 1)\n",
    "grid(Button(frame, text=\"cursor location\", command=cursor_location), 1, 1)\n",
    "grid(Button(frame, text=\"get selection\", command=get_selection), 2, 1)\n",
    "\n",
    "output_field = Entry(frame, textvariable=output_var) \n",
    "output_field.configure(state=DISABLED)\n",
    "grid(output_field, 3, 0, columnspan=2, sticky=W + E)\n",
    "\n",
    "# Text widgets don't use a StringVar (they store data internally)\n",
    "text.insert(\n",
    "    '1.1',  # line 1, column 1\n",
    "    gettysburg_address,\n",
    ")\n",
    "\n",
    "root.mainloop()"
   ],
   "id": "d1d98790401ac9bd",
   "outputs": [],
   "execution_count": 15
  },
  {
   "metadata": {},
   "cell_type": "markdown",
   "source": "## Menus",
   "id": "1db60e5f62acd71"
  },
  {
   "metadata": {
    "ExecuteTime": {
     "end_time": "2025-02-24T01:33:43.252334Z",
     "start_time": "2025-02-24T01:33:40.387376Z"
    }
   },
   "cell_type": "code",
   "source": [
    "from tkinter import Menu\n",
    "\n",
    "root, frame = build_root_and_frame('Menubar')\n",
    "root.option_add('*tearOff', False)\n",
    "\n",
    "menubar = Menu(root)\n",
    "root['menu'] = menubar\n",
    "\n",
    "if root.winfo_toplevel() is root:\n",
    "    print(\"root is top-level\")\n",
    "\n",
    "file_menu = Menu(menubar)\n",
    "menubar.add_cascade(label='File', menu=file_menu)\n",
    "file_menu.add_command(label='New')\n",
    "file_menu.add_command(label='Open')\n",
    "\n",
    "recent_file_menu = Menu(file_menu)\n",
    "file_menu.add_cascade(label='Recent', menu=recent_file_menu, underline=0)\n",
    "recent_file_menu.add_command(label='File 1')\n",
    "recent_file_menu.add_command(label='File 2')\n",
    "recent_file_menu.add_command(label='File 3')\n",
    "\n",
    "file_menu.add_command(label='Save')\n",
    "file_menu.add_separator()\n",
    "file_menu.add_command(label='Exit', command=root.destroy)\n",
    "\n",
    "edit_menu = Menu(menubar)\n",
    "menubar.add_cascade(label='Edit', menu=edit_menu)\n",
    "\n",
    "edit_menu.add_command(label='Cut', accelerator='Control+X')\n",
    "edit_menu.add_command(label='Copy', accelerator='Control+C')\n",
    "edit_menu.add_command(label='Paste')\n",
    "# This is a more verbose way of setting accelerator\n",
    "edit_menu.entryconfigure('Paste', accelerator='Control+V')\n",
    "\n",
    "check_var = StringVar()\n",
    "radio_var = StringVar()\n",
    "\n",
    "misc_menu = Menu(menubar)\n",
    "menubar.add_cascade(label='Misc', menu=misc_menu)\n",
    "misc_menu.add_checkbutton(label='Check', variable=check_var, onvalue=1, offvalue=0)\n",
    "misc_menu.add_radiobutton(label='One', variable=radio_var, value=1)\n",
    "misc_menu.add_radiobutton(label='Two', variable=radio_var, value=2)\n",
    "\n",
    "grid(Button(frame, text='placeholder', width=30), 0, 0)\n",
    "\n",
    "root.mainloop()"
   ],
   "id": "6aac8293129bbef8",
   "outputs": [
    {
     "name": "stdout",
     "output_type": "stream",
     "text": [
      "root is top-level\n"
     ]
    }
   ],
   "execution_count": 16
  },
  {
   "metadata": {},
   "cell_type": "markdown",
   "source": [
    "## Grid Layout\n",
    "\n",
    "* row, column - rows run top to bottom, columns left-to-right. First row/column is zero.\n",
    "* ipadx, ipady - Internal padding (applied to top and bottom) \n",
    "* padx, pady - External padding\n",
    "* sticky - This option determines how to distribute any extra space within the cell that is not taken up by the widget at its natural size. See below. "
   ],
   "id": "599b3069366e6767"
  },
  {
   "metadata": {
    "ExecuteTime": {
     "end_time": "2025-02-24T03:05:57.853893Z",
     "start_time": "2025-02-24T03:05:16.199888Z"
    }
   },
   "cell_type": "code",
   "source": [
    "root, frame = build_root_and_frame('Grid Layout')\n",
    "\n",
    "button_configs = (\n",
    "    (0, 0, {}),\n",
    "    (0, 1, {'rowspan': 2}),\n",
    "    (0, 2, {'ipady': 30}),\n",
    "    (1, 0, {'ipadx': 40}),\n",
    "    (1, 2, {'padx': 50}),\n",
    "    (2, 0, {'columnspan': 3}),\n",
    "    (3, 0, {'pady': 20}),\n",
    "    (4, 1, {'sticky': N}),\n",
    "    (5, 0, {'sticky': W}),\n",
    "    (5, 2, {'sticky': E}),\n",
    "    (6, 1, {'sticky': S}),\n",
    "    (7, 0, {'sticky': N+W}),\n",
    "    (7, 1, {'sticky': N+E}),\n",
    "    (7, 2, {'sticky': W+E}),\n",
    "    (8, 0, {'sticky': S+W}),\n",
    "    (8, 1, {'sticky': S+E, 'pady': 20}),\n",
    "    (8, 2, {'sticky': N+S}),\n",
    ")\n",
    "\n",
    "for row, column, kwargs in button_configs:\n",
    "    grid(\n",
    "        Button(frame, text=str(kwargs)),\n",
    "        row,\n",
    "        column,\n",
    "        **kwargs,\n",
    "    )\n",
    "\n",
    "root.mainloop()"
   ],
   "id": "23852e190f15016e",
   "outputs": [],
   "execution_count": 34
  },
  {
   "metadata": {},
   "cell_type": "markdown",
   "source": [
    "## Populating Widget Values\n",
    "\n",
    "* For widgets backed by StringVar, IntVar, etc; you can use `my_var.set()` to set the value\n",
    "* For `Text` widgets use the `insert` method"
   ],
   "id": "4c8397c97963574a"
  },
  {
   "metadata": {},
   "cell_type": "markdown",
   "source": [
    "## Handling Events\n",
    "\n",
    "**Events can be bound to:**\n",
    "1. Instances of widgets `my_convas.bind('<Button-1>', do_something)`\n",
    "2. Classes of widgets `my_button.bind_class('Button', '<Button-2>', do_something)`\n",
    "3. To the application `my_Tk_instance.bind_all('<Key-Print>', do_something)`\n",
    "\n"
   ],
   "id": "f163fe065d2670f4"
  },
  {
   "metadata": {
    "ExecuteTime": {
     "end_time": "2025-02-24T06:00:56.987021Z",
     "start_time": "2025-02-24T06:00:27.622675Z"
    }
   },
   "cell_type": "code",
   "source": [
    "from itertools import count\n",
    "\n",
    "root, frame = build_root_and_frame('Event Handling')\n",
    "\n",
    "output_var = StringVar()\n",
    "\n",
    "counter = count(1)\n",
    "\n",
    "def do_something(event):\n",
    "    output_var.set(f\"{next(counter)} events\")\n",
    "\n",
    "root.bind_all('<Key-F1>', do_something)\n",
    "\n",
    "options = ['NV', 'OH', 'OR', 'PA']\n",
    "options_var = StringVar(value=options)\n",
    "selected_var = StringVar()\n",
    "listbox = Listbox(frame, listvariable=options_var)\n",
    "listbox.bind('<<ListboxSelect>>', do_something)\n",
    "\n",
    "grid(listbox, 0, 0, rowspan=3)\n",
    "grid(Button(frame, text='Button 1'), 0, 1)\n",
    "\n",
    "button2 = Button(frame, text='Button 2')\n",
    "root.bind_class('ttk.Button', '<Button-1>', do_something)\n",
    "\n",
    "grid(button2, 1, 1)\n",
    "grid(Label(textvariable=output_var), 2, 1)\n",
    "\n",
    "root.mainloop()"
   ],
   "id": "7e6bbad2ff115d5",
   "outputs": [
    {
     "name": "stdout",
     "output_type": "stream",
     "text": [
      "Button\n"
     ]
    }
   ],
   "execution_count": 53
  },
  {
   "cell_type": "markdown",
   "id": "cca5ca7a-753e-4b24-ab70-b064516094ea",
   "metadata": {},
   "source": [
    "## References\n",
    "\n",
    "* [TkDocs Tutorial](https://tkdocs.com/tutorial/index.html)\n",
    "* [Tkinter Reference](https://tkdocs.com/shipman/)"
   ]
  }
 ],
 "metadata": {
  "kernelspec": {
   "display_name": "Python 3 (ipykernel)",
   "language": "python",
   "name": "python3"
  },
  "language_info": {
   "codemirror_mode": {
    "name": "ipython",
    "version": 3
   },
   "file_extension": ".py",
   "mimetype": "text/x-python",
   "name": "python",
   "nbconvert_exporter": "python",
   "pygments_lexer": "ipython3",
   "version": "3.9.5"
  }
 },
 "nbformat": 4,
 "nbformat_minor": 5
}
