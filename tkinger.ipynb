{
 "cells": [
  {
   "cell_type": "markdown",
   "id": "7f81a9e5-d764-44b2-b0b5-00931f77da07",
   "metadata": {},
   "source": [
    "# tkinter - Quick and Dirty GUIs with Python"
   ]
  },
  {
   "cell_type": "markdown",
   "id": "7b278150-0299-4532-8f6a-89eee4847578",
   "metadata": {},
   "source": [
    "### \"But I don't know how to use the command line\"\n",
    "\n",
    "*- User*"
   ]
  },
  {
   "cell_type": "markdown",
   "id": "d36a8d9d-cf88-4aa5-a453-c210e158e9c2",
   "metadata": {},
   "source": [
    "## So what is tkinter anyway?\n",
    "\n",
    "* Tk is a GUI library originally built for the Tcl language [tcl-lang.org](https://www.tcl-lang.org/)\n",
    "* tkinter is a Python wrapper around the Tk GUI library\n",
    "* tkinter has been in the Python standard library a long time\n",
    "* Ttk is a newer set of themed widgets (accessible via the `tkinter.ttk` module)\n"
   ]
  },
  {
   "cell_type": "markdown",
   "id": "33e031fd-e127-4de2-a274-c124bb43aa5c",
   "metadata": {},
   "source": [
    "## Installing\n",
    "\n",
    "Even though tkinter is part of the Python standard library, your Linux distribution might not have the tkinter \n",
    "\n",
    "`sudo apt-get install python3-tk`"
   ]
  },
  {
   "cell_type": "markdown",
   "id": "9134a1dc-25b2-4769-ad5a-e99d4982f729",
   "metadata": {},
   "source": [
    "## Hello World\n",
    "\n",
    "![hello_world_app](images/hello_world.png \"Title\")"
   ]
  },
  {
   "cell_type": "code",
   "id": "781e11ef-26f0-4182-9b51-46c528c4832e",
   "metadata": {
    "ExecuteTime": {
     "end_time": "2025-02-18T02:42:22.079339Z",
     "start_time": "2025-02-18T02:42:19.683293Z"
    }
   },
   "source": [
    "# Hello World\n",
    "from tkinter import Tk\n",
    "from tkinter.ttk import Frame, Label, Button\n",
    "\n",
    "root = Tk()  # create a root window\n",
    "root.title('Hello World') # Set the title of the window\n",
    "top_level = root.winfo_toplevel()\n",
    "top_level.geometry('250x100')\n",
    "\n",
    "# Frame is a rectangular area where components can be placed\n",
    "frame = Frame(root, padding=10, width=400, height=400)  \n",
    "frame.grid()  # use grid layout to position widgets inside frame\n",
    "\n",
    "# Add a Label and Button\n",
    "Label(frame, text=\"Hello World\").grid(column=0, row=0)\n",
    "Button(frame, text=\"Quit\", command=root.destroy).grid(column=0, row=1)\n",
    "\n",
    "root.mainloop()"
   ],
   "outputs": [],
   "execution_count": 1
  },
  {
   "metadata": {},
   "cell_type": "markdown",
   "source": "## Some refactoring",
   "id": "a0f3a4d70c6ce140"
  },
  {
   "cell_type": "code",
   "id": "60cdb017-c2ac-41c5-9c09-0911d8028e0d",
   "metadata": {
    "ExecuteTime": {
     "end_time": "2025-02-18T02:42:22.096090Z",
     "start_time": "2025-02-18T02:42:22.084851Z"
    }
   },
   "source": [
    "# Encapsulate the boilerplate\n",
    "def build_root_and_frame(title, win_geometry='200x200'):\n",
    "    root1 = Tk()\n",
    "    root1.title(title)\n",
    "    top_level1 = root1.winfo_toplevel()\n",
    "    top_level1.geometry(win_geometry)\n",
    "    frame1 = Frame(root1, padding=10)\n",
    "    frame1.grid()\n",
    "    return root1, frame1\n",
    "\n",
    "def grid(widget, row, column, row_span=1, column_span=1, **kwargs):\n",
    "    widget.grid(row=row, column=column, rowspan=row_span, columnspan=column_span, **kwargs)"
   ],
   "outputs": [],
   "execution_count": 2
  },
  {
   "metadata": {},
   "cell_type": "markdown",
   "source": [
    "## Input/Output\n",
    "\n",
    "![input_output](images/input_output.png \"Title\")"
   ],
   "id": "471a6d78c10458f1"
  },
  {
   "cell_type": "code",
   "id": "36a44753-f9ba-4a5c-a6bb-f9a1e57978d3",
   "metadata": {
    "ExecuteTime": {
     "end_time": "2025-02-18T02:42:24.078537Z",
     "start_time": "2025-02-18T02:42:22.098554Z"
    }
   },
   "source": [
    "# Take some input: Hello NAME\n",
    "from tkinter import StringVar\n",
    "from tkinter.ttk import Entry\n",
    "\n",
    "root, frame = build_root_and_frame('Hello NAME', '400x150')\n",
    "\n",
    "# This is known as a control value it's the value underlying the widget\n",
    "# also comes in DoubleVar and IntVar flavors\n",
    "name_in = StringVar()\n",
    "name_out = StringVar()\n",
    "\n",
    "def greet(*args):\n",
    "    name_out.set(f\"Hello {name_in.get()}\")\n",
    "\n",
    "grid(Label(frame, text='Name'), 0, 0)\n",
    "grid(Entry(frame, width=20, textvariable=name_in), 0, 1)\n",
    "grid(Button(frame, text='Greet', command=greet), 0, 2)\n",
    "\n",
    "grid(Label(frame, textvariable=name_out), 1, 0)\n",
    "grid(Button(frame, text='Quit', command=root.destroy), 2, 0)\n",
    "\n",
    "root.mainloop()"
   ],
   "outputs": [],
   "execution_count": 3
  },
  {
   "cell_type": "markdown",
   "id": "ae03af4b-4e87-48d1-98cd-4c3fa42f70f3",
   "metadata": {},
   "source": [
    "## Canvas\n",
    "\n",
    "![canvas.png](images/canvas.png \"Canvas\")"
   ]
  },
  {
   "cell_type": "code",
   "id": "a9b0acf9-b0e7-4a07-a723-755ff6aabeda",
   "metadata": {
    "ExecuteTime": {
     "end_time": "2025-02-18T02:42:24.089098Z",
     "start_time": "2025-02-18T02:42:24.084604Z"
    }
   },
   "source": [
    "# another factory function\n",
    "def grid_label(parent, text, row, column):\n",
    "    grid(Label(parent, text=text), row, column)"
   ],
   "outputs": [],
   "execution_count": 4
  },
  {
   "cell_type": "code",
   "id": "8a74eb0f-8492-464d-8e4b-3d2824f980cc",
   "metadata": {
    "ExecuteTime": {
     "end_time": "2025-02-18T03:21:50.266231Z",
     "start_time": "2025-02-18T03:21:47.288569Z"
    }
   },
   "source": [
    "from tkinter import Canvas\n",
    "\n",
    "root, frame = build_root_and_frame('Canvas')\n",
    "canvas = Canvas(frame, height=100, width=100, background='white')\n",
    "\n",
    "def draw():\n",
    "    canvas.create_line(0, 50, 50, 0)\n",
    "    canvas.create_arc(50, 0, 100, 50)\n",
    "    canvas.create_oval(50, 50, 100, 100)\n",
    "    canvas.create_rectangle(25, 75, 75, 25)\n",
    "\n",
    "grid(canvas, 0, 0)\n",
    "grid(Button(frame, text='draw', command=draw), 0, 1)\n",
    "\n",
    "root.mainloop()"
   ],
   "outputs": [],
   "execution_count": 13
  },
  {
   "cell_type": "markdown",
   "id": "74c7193d-f6f4-424e-a71c-af99086682f2",
   "metadata": {},
   "source": [
    "## Checkbutton\n",
    "\n",
    "![checkbox.png](images/checkbox.png \"checkbox\")"
   ]
  },
  {
   "cell_type": "code",
   "id": "d293ddae-9c0f-4fa0-9384-5a9e007acf73",
   "metadata": {
    "ExecuteTime": {
     "end_time": "2025-02-18T03:21:59.957772Z",
     "start_time": "2025-02-18T03:21:55.796669Z"
    }
   },
   "source": [
    "from tkinter.ttk import Checkbutton\n",
    "\n",
    "root, frame = build_root_and_frame('Checkbutton', '400x100')\n",
    "\n",
    "hackme = StringVar()\n",
    "grid(\n",
    "    Checkbutton(\n",
    "        frame,\n",
    "        text=\"Save credit card info so it can be stolen later\",\n",
    "        variable=hackme,\n",
    "        onvalue='Hack the Planet!',\n",
    "        offvalue=\"Oh no you don't!\",\n",
    "    ), \n",
    "    0, 0,\n",
    ")\n",
    "grid(Label(frame, textvariable=hackme), 1, 0)\n",
    "\n",
    "root.mainloop()"
   ],
   "outputs": [],
   "execution_count": 14
  },
  {
   "cell_type": "markdown",
   "id": "04654f71-508a-4295-ae0c-b7f09b26e6d5",
   "metadata": {},
   "source": [
    "## Radiobutton\n",
    "\n",
    "![radiobutton.png](images/radiobutton.png \"radiobutton\")"
   ]
  },
  {
   "cell_type": "code",
   "id": "9f56944c-a0e1-4700-af1f-48c76b38e82c",
   "metadata": {
    "ExecuteTime": {
     "end_time": "2025-02-18T03:22:09.929720Z",
     "start_time": "2025-02-18T03:22:04.890649Z"
    }
   },
   "source": [
    "from tkinter.ttk import Radiobutton\n",
    "\n",
    "root, frame = build_root_and_frame('Radiobutton')\n",
    "\n",
    "language = StringVar()\n",
    "grid(Radiobutton(frame, text=\"English\", variable=language, value='EN'), 0, 0)\n",
    "grid(Radiobutton(frame, text=\"Españole\", variable=language, value='ES'), 1, 0)\n",
    "grid_label(frame, 'Value', 2, 0)\n",
    "grid(Label(frame, textvariable=language), 2, 1)\n",
    "\n",
    "root.mainloop()"
   ],
   "outputs": [],
   "execution_count": 15
  },
  {
   "cell_type": "markdown",
   "id": "2bb452c5-774e-4678-aa70-b395a722c8c0",
   "metadata": {},
   "source": [
    "## Radiobutton, with Style\n",
    "\n",
    "The diamond Radiobuttons are wierd, but you can switch your app to a different theme to avoid them\n",
    "\n",
    "![radiobutton_with_style](images/radiobutton_with_style.png \"radiobutton with style\")"
   ]
  },
  {
   "cell_type": "code",
   "id": "08c59e28-2e9c-4b9b-8f69-e8d2163db84c",
   "metadata": {
    "ExecuteTime": {
     "end_time": "2025-02-18T03:22:16.970576Z",
     "start_time": "2025-02-18T03:22:16.935803Z"
    }
   },
   "source": [
    "from tkinter.ttk import Style\n",
    "\n",
    "style = Style()\n",
    "print(f\"{style.theme_names()=}\")\n",
    "print(f\"{style.theme_use()=}\")"
   ],
   "outputs": [
    {
     "name": "stdout",
     "output_type": "stream",
     "text": [
      "style.theme_names()=('clam', 'alt', 'default', 'classic')\n",
      "style.theme_use()='default'\n"
     ]
    }
   ],
   "execution_count": 16
  },
  {
   "cell_type": "code",
   "id": "d2ec9644-b6b5-4a1f-b05e-78aa9c07e2f0",
   "metadata": {
    "ExecuteTime": {
     "end_time": "2025-02-18T03:24:14.842867Z",
     "start_time": "2025-02-18T03:24:03.356561Z"
    }
   },
   "source": [
    "root = Tk()\n",
    "root.style = Style(root)\n",
    "root.style.theme_use('alt')\n",
    "root.title(\"Radiobutton, with style\")\n",
    "\n",
    "frame = Frame(root, padding=10)\n",
    "frame.grid()\n",
    "\n",
    "language = StringVar()\n",
    "grid(Radiobutton(frame, text=\"English\", variable=language, value='EN'), 0, 0, sticky='w')\n",
    "grid(Radiobutton(frame, text=\"Español\", variable=language, value='ES'), 1, 0, sticky='w')\n",
    "grid_label(frame, 'Value', 2, 0)\n",
    "grid(Label(frame, textvariable=language), 2, 1)\n",
    "\n",
    "root.mainloop()"
   ],
   "outputs": [],
   "execution_count": 18
  },
  {
   "metadata": {},
   "cell_type": "markdown",
   "source": [
    "## Listbox\n",
    "\n",
    "![Listbox](images/listbox.png \"Listbox\")"
   ],
   "id": "2f583605827c47aa"
  },
  {
   "cell_type": "code",
   "id": "093b45ce-30e7-4574-a320-c5a829187d04",
   "metadata": {
    "ExecuteTime": {
     "end_time": "2025-02-18T03:25:52.589609Z",
     "start_time": "2025-02-18T03:24:32.216676Z"
    }
   },
   "source": [
    "from string import ascii_letters\n",
    "from tkinter import BROWSE, EXTENDED, Listbox, MULTIPLE, SINGLE, W\n",
    "root, frame = build_root_and_frame('Listbox')\n",
    "\n",
    "options = [\n",
    "    'alpha', 'bravo', 'charlie', 'delta', 'echo',\n",
    "    'foxtrot', 'golf', 'hotel', 'india', 'juliet',\n",
    "    'kilo', 'lima', 'mike', 'november', 'oscar',\n",
    "    ascii_letters * 5,\n",
    "]\n",
    "options_var = StringVar(value=options)\n",
    "listbox = Listbox(frame, height=10, listvariable=options_var)\n",
    "chosen_var = StringVar()\n",
    "select_mode = StringVar()\n",
    "select_mode.set(BROWSE)\n",
    "\n",
    "def show_selection():\n",
    "    selected_indices = listbox.curselection()\n",
    "    selections = [listbox.get(i) for i in selected_indices]\n",
    "    chosen_var.set(\"selection: \" + \", \".join(selections))\n",
    "    \n",
    "def mode_changed():\n",
    "    listbox.selection_clear(0)\n",
    "    listbox.configure(selectmode=select_mode.get())\n",
    "    \n",
    "def build_radio(mode):\n",
    "    return Radiobutton(frame, text=mode.upper(), variable=select_mode, value=mode, command=mode_changed)\n",
    "\n",
    "grid(listbox, 0, 0, row_span=5)\n",
    "grid(build_radio(BROWSE), 0, 1, sticky=W)\n",
    "grid(build_radio(SINGLE), 1, 1, sticky=W)\n",
    "grid(build_radio(MULTIPLE), 2, 1, sticky=W)\n",
    "grid(build_radio(EXTENDED), 3, 1, sticky=W)\n",
    "grid(Button(frame, text='Read Selection', command=show_selection), 4, 1)\n",
    "grid(Label(frame, textvariable=chosen_var), 5, 0, column_span=2)\n",
    "\n",
    "root.mainloop()"
   ],
   "outputs": [],
   "execution_count": 19
  },
  {
   "metadata": {},
   "cell_type": "markdown",
   "source": [
    "## Scrollbar\n",
    "\n",
    "![Scrolling Listbox](images/scrolling_listbox.png \"Scrolling Listbox\")"
   ],
   "id": "dc613af72987b49b"
  },
  {
   "metadata": {
    "ExecuteTime": {
     "end_time": "2025-02-18T03:01:55.591751Z",
     "start_time": "2025-02-18T03:01:11.194418Z"
    }
   },
   "cell_type": "code",
   "source": [
    "from tkinter import E, HORIZONTAL, N, S, VERTICAL\n",
    "from tkinter.ttk import Scrollbar\n",
    "\n",
    "root, frame = build_root_and_frame('Scrolling Listbox')\n",
    "x_scroll = Scrollbar(frame, orient=HORIZONTAL)\n",
    "y_scroll = Scrollbar(frame, orient=VERTICAL)\n",
    "\n",
    "grid(x_scroll, 1, 0, sticky=E+W)\n",
    "grid(y_scroll, 0, 1, sticky=N+S)\n",
    "\n",
    "options_var = StringVar(value=options)\n",
    "listbox = Listbox(\n",
    "    frame,\n",
    "    listvariable=options_var,\n",
    "    xscrollcommand=x_scroll.set,\n",
    "    yscrollcommand=y_scroll.set,\n",
    ")\n",
    "grid(listbox, 0, 0)\n",
    "x_scroll['command'] = listbox.xview\n",
    "y_scroll['command'] = listbox.yview\n",
    "\n",
    "root.mainloop()"
   ],
   "id": "27785c35461ba770",
   "outputs": [],
   "execution_count": 11
  },
  {
   "cell_type": "markdown",
   "id": "cca5ca7a-753e-4b24-ab70-b064516094ea",
   "metadata": {},
   "source": [
    "## References\n",
    "\n",
    "* [TkDocs Tutorial](https://tkdocs.com/tutorial/index.html)\n",
    "* [Tkinter Reference](https://tkdocs.com/shipman/)"
   ]
  },
  {
   "cell_type": "code",
   "id": "e5a1e2ad-d3bf-4711-98bd-8fa355b760bc",
   "metadata": {
    "ExecuteTime": {
     "end_time": "2025-02-18T03:01:55.598171Z",
     "start_time": "2025-02-18T03:01:55.594609Z"
    }
   },
   "source": [],
   "outputs": [],
   "execution_count": 11
  }
 ],
 "metadata": {
  "kernelspec": {
   "display_name": "Python 3 (ipykernel)",
   "language": "python",
   "name": "python3"
  },
  "language_info": {
   "codemirror_mode": {
    "name": "ipython",
    "version": 3
   },
   "file_extension": ".py",
   "mimetype": "text/x-python",
   "name": "python",
   "nbconvert_exporter": "python",
   "pygments_lexer": "ipython3",
   "version": "3.9.5"
  }
 },
 "nbformat": 4,
 "nbformat_minor": 5
}
