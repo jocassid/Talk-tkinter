{
 "cells": [
  {
   "cell_type": "markdown",
   "id": "7f81a9e5-d764-44b2-b0b5-00931f77da07",
   "metadata": {},
   "source": [
    "# tkinter - Quick and Dirty GUIs with Python"
   ]
  },
  {
   "cell_type": "markdown",
   "id": "7b278150-0299-4532-8f6a-89eee4847578",
   "metadata": {},
   "source": [
    "### \"But I don't know how to use the command line\"\n",
    "\n",
    "*- User*"
   ]
  },
  {
   "cell_type": "markdown",
   "id": "d36a8d9d-cf88-4aa5-a453-c210e158e9c2",
   "metadata": {},
   "source": [
    "## So what is tkinter anyway?\n",
    "\n",
    "* Tk is a GUI library originally built for the Tcl language [tcl-lang.org](https://www.tcl-lang.org/)\n",
    "* tkinter is a Python wrapper around the Tk GUI library\n",
    "* tkinter has been in the Python standard library a long time\n",
    "* Ttk is a newer set of themed widgets (accessible via the `tkinter.ttk` module)\n"
   ]
  },
  {
   "cell_type": "markdown",
   "id": "33e031fd-e127-4de2-a274-c124bb43aa5c",
   "metadata": {},
   "source": [
    "## Installing\n",
    "\n",
    "Even though tkinter is part of the Python standard library, your Linux distribution might not have the tkinter \n",
    "\n",
    "`sudo apt-get install python3-tk`"
   ]
  },
  {
   "cell_type": "markdown",
   "id": "9134a1dc-25b2-4769-ad5a-e99d4982f729",
   "metadata": {},
   "source": [
    "## Hello World"
   ]
  },
  {
   "cell_type": "code",
   "execution_count": 1,
   "id": "781e11ef-26f0-4182-9b51-46c528c4832e",
   "metadata": {},
   "outputs": [],
   "source": [
    "# Hello World\n",
    "from tkinter import Tk\n",
    "from tkinter.ttk import Frame, Label, Button\n",
    "\n",
    "root = Tk()  # create a root window\n",
    "root.title('Hello World') # Set the title of the window\n",
    "\n",
    "# Frame is a rectangular area where compoents can be placed\n",
    "frame = Frame(root, padding=10)  \n",
    "frame.grid()  # use grid layout to position widgets inside frame\n",
    "\n",
    "# Add a Label and Button\n",
    "Label(frame, text=\"Hello World\").grid(column=0, row=0)\n",
    "Button(frame, text=\"Quit\", command=root.destroy).grid(column=0, row=1)\n",
    "\n",
    "root.mainloop()"
   ]
  },
  {
   "cell_type": "markdown",
   "id": "fe6576ee-5add-4ba1-9c83-e2722e4851e0",
   "metadata": {},
   "source": [
    "## Input/Output"
   ]
  },
  {
   "cell_type": "code",
   "execution_count": 14,
   "id": "60cdb017-c2ac-41c5-9c09-0911d8028e0d",
   "metadata": {},
   "outputs": [],
   "source": [
    "# Encapsulate the boilerplate\n",
    "def build_root_and_frame(title):\n",
    "    root = Tk()\n",
    "    root.title(title)\n",
    "    frame = Frame(root, padding=10)\n",
    "    frame.grid()\n",
    "    return root, frame\n",
    "\n",
    "def grid(widget, row, column, **kwargs):\n",
    "    widget.grid(row=row, column=column, **kwargs)"
   ]
  },
  {
   "cell_type": "code",
   "execution_count": 3,
   "id": "36a44753-f9ba-4a5c-a6bb-f9a1e57978d3",
   "metadata": {},
   "outputs": [],
   "source": [
    "# Take some input: Hello NAME\n",
    "from tkinter import StringVar\n",
    "from tkinter.ttk import Entry\n",
    "\n",
    "root, frame = build_root_and_frame('Hello NAME')\n",
    "\n",
    "# This is known as a control value it's the value underlying the widget\n",
    "# also comes in DoubleVar and IntVar flavors\n",
    "name_in = StringVar()\n",
    "name_out = StringVar()\n",
    "\n",
    "def greet(*args):\n",
    "    name_out.set(f\"Hello {name_in.get()}\")\n",
    "\n",
    "grid(Label(frame, text='Name'), 0, 0)\n",
    "grid(Entry(frame, width=20, textvariable=name_in), 0, 1)\n",
    "grid(Button(frame, text='Greet', command=greet), 0, 2)\n",
    "\n",
    "grid(Label(frame, textvariable=name_out), 1, 0)\n",
    "grid(Button(frame, text='Quit', command=root.destroy), 2, 0)\n",
    "\n",
    "root.mainloop()"
   ]
  },
  {
   "cell_type": "markdown",
   "id": "ae03af4b-4e87-48d1-98cd-4c3fa42f70f3",
   "metadata": {},
   "source": [
    "## Canvas"
   ]
  },
  {
   "cell_type": "code",
   "execution_count": 4,
   "id": "a9b0acf9-b0e7-4a07-a723-755ff6aabeda",
   "metadata": {},
   "outputs": [],
   "source": [
    "# another factory function\n",
    "def grid_label(parent, text, row, column):\n",
    "    grid(Label(parent, text=text), row, column)"
   ]
  },
  {
   "cell_type": "code",
   "execution_count": 5,
   "id": "8a74eb0f-8492-464d-8e4b-3d2824f980cc",
   "metadata": {},
   "outputs": [],
   "source": [
    "from tkinter import Canvas\n",
    "\n",
    "root, frame = build_root_and_frame('Canvas')\n",
    "canvas = Canvas(frame, height=100, width=100, background='white')\n",
    "\n",
    "def draw():\n",
    "    canvas.create_line(0, 50, 50, 0)\n",
    "    canvas.create_arc(50, 0, 100, 50)\n",
    "    canvas.create_oval(50, 50, 100, 100)\n",
    "    canvas.create_rectangle(25, 75, 75, 25)\n",
    "\n",
    "grid(canvas, 0, 0)\n",
    "grid(Button(frame, text='draw', command=draw), 0, 1)\n",
    "\n",
    "root.mainloop()"
   ]
  },
  {
   "cell_type": "markdown",
   "id": "74c7193d-f6f4-424e-a71c-af99086682f2",
   "metadata": {},
   "source": [
    "## Checkbutton"
   ]
  },
  {
   "cell_type": "code",
   "execution_count": 6,
   "id": "d293ddae-9c0f-4fa0-9384-5a9e007acf73",
   "metadata": {},
   "outputs": [],
   "source": [
    "from tkinter.ttk import Checkbutton\n",
    "\n",
    "root, frame = build_root_and_frame('Checkbutton')\n",
    "\n",
    "hackme = StringVar()\n",
    "grid_label(frame, 'Checkbutton', 0, 0)\n",
    "grid(\n",
    "    Checkbutton(\n",
    "        frame,\n",
    "        text=\"Save credit card so it can be stolen later\",\n",
    "        variable=hackme,\n",
    "        onvalue='hackme',\n",
    "        offvalue=\"oh no you don't\",\n",
    "    ), \n",
    "    0, 1,\n",
    ")\n",
    "grid(Label(frame, textvariable=hackme), 1, 0)\n",
    "\n",
    "root.mainloop()"
   ]
  },
  {
   "cell_type": "markdown",
   "id": "04654f71-508a-4295-ae0c-b7f09b26e6d5",
   "metadata": {},
   "source": [
    "## Radiobutton"
   ]
  },
  {
   "cell_type": "code",
   "execution_count": 7,
   "id": "9f56944c-a0e1-4700-af1f-48c76b38e82c",
   "metadata": {},
   "outputs": [],
   "source": [
    "from tkinter.ttk import Radiobutton\n",
    "\n",
    "root, frame = build_root_and_frame('Radiobutton')\n",
    "\n",
    "language = StringVar()\n",
    "grid(Radiobutton(frame, text=\"English\", variable=language, value='EN'), 0, 0)\n",
    "grid(Radiobutton(frame, text=\"Españole\", variable=language, value='ES'), 1, 0)\n",
    "grid_label(frame, 'Value', 2, 0)\n",
    "grid(Label(frame, textvariable=language), 2, 1)\n",
    "\n",
    "root.mainloop()"
   ]
  },
  {
   "cell_type": "markdown",
   "id": "2bb452c5-774e-4678-aa70-b395a722c8c0",
   "metadata": {},
   "source": [
    "## Radiobutton, with Style\n",
    "\n",
    "The diamond Radiobuttons are wierd, but you can switch your app to a different theme to avoid them"
   ]
  },
  {
   "cell_type": "code",
   "execution_count": 19,
   "id": "08c59e28-2e9c-4b9b-8f69-e8d2163db84c",
   "metadata": {},
   "outputs": [
    {
     "name": "stdout",
     "output_type": "stream",
     "text": [
      "style.theme_names()=('clam', 'alt', 'default', 'classic')\n",
      "style.theme_use()='default'\n"
     ]
    }
   ],
   "source": [
    "from tkinter.ttk import Style\n",
    "\n",
    "style = Style()\n",
    "print(f\"{style.theme_names()=}\")\n",
    "print(f\"{style.theme_use()=}\")"
   ]
  },
  {
   "cell_type": "code",
   "execution_count": 20,
   "id": "d2ec9644-b6b5-4a1f-b05e-78aa9c07e2f0",
   "metadata": {},
   "outputs": [],
   "source": [
    "root = Tk()\n",
    "root.style = Style(root)\n",
    "root.style.theme_use('alt')\n",
    "root.title(\"Radiobutton, with style\")\n",
    "\n",
    "frame = Frame(root, padding=10)\n",
    "frame.grid()\n",
    "\n",
    "language = StringVar()\n",
    "grid(Radiobutton(frame, text=\"English\", variable=language, value='EN'), 0, 0, sticky='w')\n",
    "grid(Radiobutton(frame, text=\"Español\", variable=language, value='ES'), 1, 0, sticky='w')\n",
    "grid_label(frame, 'Value', 2, 0)\n",
    "grid(Label(frame, textvariable=language), 2, 1)\n",
    "\n",
    "root.mainloop()"
   ]
  },
  {
   "cell_type": "code",
   "execution_count": 23,
   "id": "093b45ce-30e7-4574-a320-c5a829187d04",
   "metadata": {},
   "outputs": [],
   "source": [
    "from tkinter import Listbox\n",
    "\n",
    "root, frame = build_root_and_frame('Listbox')\n",
    "\n",
    "choices = ['apple', 'bananna', 'cucumber']\n",
    "fruitchoice = StringVar(value=choices)\n",
    "grid(Listbox(frame, listvariable=fruitchoice), 0, 0)\n",
    "grid(Label(frame, textvariable=fruitchoice), 1, 0)\n",
    "\n",
    "root.mainloop()"
   ]
  },
  {
   "cell_type": "markdown",
   "id": "cca5ca7a-753e-4b24-ab70-b064516094ea",
   "metadata": {},
   "source": [
    "## References\n",
    "\n",
    "* [TkDocs Tutorial](https://tkdocs.com/tutorial/index.html)\n",
    "* [Tkinter Reference](https://tkdocs.com/shipman/)"
   ]
  },
  {
   "cell_type": "code",
   "execution_count": null,
   "id": "e5a1e2ad-d3bf-4711-98bd-8fa355b760bc",
   "metadata": {},
   "outputs": [],
   "source": []
  }
 ],
 "metadata": {
  "kernelspec": {
   "display_name": "Python 3 (ipykernel)",
   "language": "python",
   "name": "python3"
  },
  "language_info": {
   "codemirror_mode": {
    "name": "ipython",
    "version": 3
   },
   "file_extension": ".py",
   "mimetype": "text/x-python",
   "name": "python",
   "nbconvert_exporter": "python",
   "pygments_lexer": "ipython3",
   "version": "3.9.5"
  }
 },
 "nbformat": 4,
 "nbformat_minor": 5
}
