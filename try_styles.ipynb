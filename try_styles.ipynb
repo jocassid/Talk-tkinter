{
 "cells": [
  {
   "cell_type": "code",
   "execution_count": 4,
   "id": "8b94b0bc-6fdd-4eb8-807f-a06a34fc7c99",
   "metadata": {},
   "outputs": [],
   "source": [
    "\n",
    "from tkinter import Tk, StringVar\n",
    "from tkinter.ttk import (\n",
    "    Button, Entry, Label, \n",
    "    LabelFrame, Radiobutton, Style,\n",
    ")\n",
    "\n",
    "\n",
    "class App(Tk):\n",
    "    def __init__(self):\n",
    "        super().__init__()\n",
    "\n",
    "        # root window\n",
    "        self.title('Theme Demo')\n",
    "        self.geometry('400x300')\n",
    "        self.style = Style(self)\n",
    "\n",
    "        # label\n",
    "        label = Label(self, text='Name:')\n",
    "        label.grid(column=0, row=0, padx=10, pady=10,  sticky='w')\n",
    "        \n",
    "        # entry\n",
    "        textbox = Entry(self)\n",
    "        textbox.grid(column=1, row=0, padx=10, pady=10,  sticky='w')\n",
    "        \n",
    "        # button\n",
    "        btn = Button(self, text='Show')\n",
    "        btn.grid(column=2, row=0, padx=10, pady=10,  sticky='w')\n",
    "\n",
    "        # radio button\n",
    "        self.selected_theme = StringVar()\n",
    "        theme_frame = LabelFrame(self, text='Themes')\n",
    "        theme_frame.grid(padx=10, pady=10, ipadx=20, ipady=20, sticky='w')\n",
    "\n",
    "        for theme_name in self.style.theme_names():\n",
    "            rb = Radiobutton(\n",
    "                theme_frame,\n",
    "                text=theme_name,\n",
    "                value=theme_name,\n",
    "                variable=self.selected_theme,\n",
    "                command=self.change_theme)\n",
    "            rb.pack(expand=True, fill='both')\n",
    "\n",
    "    def change_theme(self):\n",
    "        self.style.theme_use(self.selected_theme.get())\n"
   ]
  },
  {
   "cell_type": "code",
   "execution_count": 7,
   "id": "6a67868d-d906-4d63-9a85-e38839af014c",
   "metadata": {},
   "outputs": [],
   "source": [
    "app = App()\n",
    "app.mainloop()"
   ]
  },
  {
   "cell_type": "code",
   "execution_count": null,
   "id": "44b000cb-66e5-43b0-abf7-d419bc54dedf",
   "metadata": {},
   "outputs": [],
   "source": []
  }
 ],
 "metadata": {
  "kernelspec": {
   "display_name": "Python 3 (ipykernel)",
   "language": "python",
   "name": "python3"
  },
  "language_info": {
   "codemirror_mode": {
    "name": "ipython",
    "version": 3
   },
   "file_extension": ".py",
   "mimetype": "text/x-python",
   "name": "python",
   "nbconvert_exporter": "python",
   "pygments_lexer": "ipython3",
   "version": "3.9.5"
  }
 },
 "nbformat": 4,
 "nbformat_minor": 5
}
